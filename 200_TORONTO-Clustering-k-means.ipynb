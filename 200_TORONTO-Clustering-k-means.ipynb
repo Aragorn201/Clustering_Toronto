{
 "cells": [
  {
   "cell_type": "markdown",
   "metadata": {
    "button": false,
    "new_sheet": false,
    "run_control": {
     "read_only": false
    }
   },
   "source": [
    "<h1 align=center><font size = 5><em>k</em>-means Clustering</font></h1>\n"
   ]
  },
  {
   "cell_type": "markdown",
   "metadata": {
    "button": false,
    "new_sheet": false,
    "run_control": {
     "read_only": false
    }
   },
   "source": [
    "## Table of Contents\n",
    "\n",
    "1.  <a href=\"#item1\">Scraping Toronto data from Wikipedia</a>    \n",
    "2.  <a href=\"#item2\">Getting lontitude and longitude data</a> \n",
    "3.  <a href=\"#item3\">Clustering Neighborhoods</a> \n"
   ]
  },
  {
   "cell_type": "markdown",
   "metadata": {
    "button": false,
    "new_sheet": false,
    "run_control": {
     "read_only": false
    }
   },
   "source": [
    "Before we start with the main lab content, let's download all the dependencies that we will need.\n"
   ]
  },
  {
   "cell_type": "code",
   "execution_count": 177,
   "metadata": {
    "button": false,
    "new_sheet": false,
    "run_control": {
     "read_only": false
    }
   },
   "outputs": [
    {
     "name": "stdout",
     "output_type": "stream",
     "text": [
      "Libraries imported.\n"
     ]
    }
   ],
   "source": [
    "import random # library for random number generation\n",
    "import numpy as np # library for vectorized computation\n",
    "import pandas as pd # library to process data as dataframes\n",
    "import requests\n",
    "import matplotlib.pyplot as plt # plotting library\n",
    "from geopy.geocoders import Nominatim\n",
    "import folium\n",
    "# backend for rendering plots within the browser\n",
    "%matplotlib inline \n",
    "import matplotlib.image as mpimg\n",
    "import matplotlib.cm as cm\n",
    "import matplotlib.colors as colors\n",
    "\n",
    "from sklearn.cluster import KMeans \n",
    "from bs4 import BeautifulSoup as BS\n",
    "\n",
    "print('Libraries imported.')"
   ]
  },
  {
   "cell_type": "markdown",
   "metadata": {
    "button": false,
    "new_sheet": false,
    "run_control": {
     "read_only": false
    }
   },
   "source": [
    "<a id='item1'></a>\n"
   ]
  },
  {
   "cell_type": "markdown",
   "metadata": {
    "button": false,
    "new_sheet": false,
    "run_control": {
     "read_only": false
    }
   },
   "source": [
    "## 1. Scraping Toronto data from Wikipedia\n"
   ]
  },
  {
   "cell_type": "code",
   "execution_count": 140,
   "metadata": {},
   "outputs": [],
   "source": [
    "url='https://en.wikipedia.org/wiki/List_of_postal_codes_of_Canada:_M'\n",
    "# Make a GET request to fetch the raw HTML content\n",
    "html_content = requests.get(url).text\n",
    "#\n",
    "# Parse the html content\n",
    "soup = BS(html_content, \"lxml\")\n",
    "#print(soup.prettify()) # print the parsed data of html"
   ]
  },
  {
   "cell_type": "markdown",
   "metadata": {},
   "source": [
    "#### Fetch for table headings\n"
   ]
  },
  {
   "cell_type": "code",
   "execution_count": 141,
   "metadata": {},
   "outputs": [
    {
     "name": "stdout",
     "output_type": "stream",
     "text": [
      "['Postal Code', 'Borough', 'Neighbourhood']\n"
     ]
    }
   ],
   "source": [
    "table = soup.find(\"table\", attrs={\"class\": \"wikitable\"})  \n",
    "\n",
    "# Get all the headings of Lists\n",
    "headings = []\n",
    "for td in table.find_all(\"th\"):\n",
    "    # remove any newlines and extra spaces from left and right\n",
    "    headings.append(td.text.replace('\\n', ''))\n",
    "\n",
    "print(headings)"
   ]
  },
  {
   "cell_type": "markdown",
   "metadata": {},
   "source": [
    "#### Fetch for table rows\n"
   ]
  },
  {
   "cell_type": "code",
   "execution_count": 142,
   "metadata": {},
   "outputs": [
    {
     "name": "stdout",
     "output_type": "stream",
     "text": [
      "rows data: [['M1A', 'Not assigned', 'Not assigned'], ['M2A', 'Not assigned', 'Not assigned'], ['M3A', 'North York', 'Parkwoods'], ['M4A', 'North York', 'Victoria Village']] .....\n"
     ]
    }
   ],
   "source": [
    "# Get all the headings of Lists\n",
    "rows = []\n",
    "for td in table.find_all(\"td\"):\n",
    "    # remove any newlines and extra spaces from left and right\n",
    "    rows.append(td.text.replace('\\n', ''))\n",
    "\n",
    "#print('all rows data:',rows[:6])\n",
    "#\n",
    "#\"\"\"\n",
    "new_rows=[]\n",
    "for i in range(0,len(rows)-2,3):\n",
    "    new_rows.append(rows[i:i+3])\n",
    "#\n",
    "print('rows data:',new_rows[:4],'.....')\n",
    "#\"\"\""
   ]
  },
  {
   "cell_type": "code",
   "execution_count": 143,
   "metadata": {},
   "outputs": [
    {
     "data": {
      "text/html": [
       "<div>\n",
       "<style scoped>\n",
       "    .dataframe tbody tr th:only-of-type {\n",
       "        vertical-align: middle;\n",
       "    }\n",
       "\n",
       "    .dataframe tbody tr th {\n",
       "        vertical-align: top;\n",
       "    }\n",
       "\n",
       "    .dataframe thead th {\n",
       "        text-align: right;\n",
       "    }\n",
       "</style>\n",
       "<table border=\"1\" class=\"dataframe\">\n",
       "  <thead>\n",
       "    <tr style=\"text-align: right;\">\n",
       "      <th></th>\n",
       "      <th>Postal Code</th>\n",
       "      <th>Borough</th>\n",
       "      <th>Neighbourhood</th>\n",
       "    </tr>\n",
       "  </thead>\n",
       "  <tbody>\n",
       "    <tr>\n",
       "      <th>0</th>\n",
       "      <td>M1A</td>\n",
       "      <td>Not assigned</td>\n",
       "      <td>Not assigned</td>\n",
       "    </tr>\n",
       "    <tr>\n",
       "      <th>1</th>\n",
       "      <td>M2A</td>\n",
       "      <td>Not assigned</td>\n",
       "      <td>Not assigned</td>\n",
       "    </tr>\n",
       "    <tr>\n",
       "      <th>2</th>\n",
       "      <td>M3A</td>\n",
       "      <td>North York</td>\n",
       "      <td>Parkwoods</td>\n",
       "    </tr>\n",
       "    <tr>\n",
       "      <th>3</th>\n",
       "      <td>M4A</td>\n",
       "      <td>North York</td>\n",
       "      <td>Victoria Village</td>\n",
       "    </tr>\n",
       "    <tr>\n",
       "      <th>4</th>\n",
       "      <td>M5A</td>\n",
       "      <td>Downtown Toronto</td>\n",
       "      <td>Regent Park, Harbourfront</td>\n",
       "    </tr>\n",
       "  </tbody>\n",
       "</table>\n",
       "</div>"
      ],
      "text/plain": [
       "  Postal Code           Borough              Neighbourhood\n",
       "0         M1A      Not assigned               Not assigned\n",
       "1         M2A      Not assigned               Not assigned\n",
       "2         M3A        North York                  Parkwoods\n",
       "3         M4A        North York           Victoria Village\n",
       "4         M5A  Downtown Toronto  Regent Park, Harbourfront"
      ]
     },
     "execution_count": 143,
     "metadata": {},
     "output_type": "execute_result"
    }
   ],
   "source": [
    "df=pd.DataFrame(new_rows,columns=headings)\n",
    "df.head()"
   ]
  },
  {
   "cell_type": "code",
   "execution_count": 144,
   "metadata": {},
   "outputs": [],
   "source": [
    "new_df=df.drop(df[df['Borough']=='Not assigned'].index)\n",
    "new_df.index=np.arange(len(new_df))\n",
    "new_df[new_df['Neighbourhood']=='Not assigned']\n",
    "#\n",
    "new_df=new_df.sort_values(by=['Postal Code'])\n",
    "new_df.index=np.arange(len(new_df))"
   ]
  },
  {
   "cell_type": "code",
   "execution_count": 145,
   "metadata": {},
   "outputs": [
    {
     "data": {
      "text/html": [
       "<div>\n",
       "<style scoped>\n",
       "    .dataframe tbody tr th:only-of-type {\n",
       "        vertical-align: middle;\n",
       "    }\n",
       "\n",
       "    .dataframe tbody tr th {\n",
       "        vertical-align: top;\n",
       "    }\n",
       "\n",
       "    .dataframe thead th {\n",
       "        text-align: right;\n",
       "    }\n",
       "</style>\n",
       "<table border=\"1\" class=\"dataframe\">\n",
       "  <thead>\n",
       "    <tr style=\"text-align: right;\">\n",
       "      <th></th>\n",
       "      <th>Postal Code</th>\n",
       "      <th>Borough</th>\n",
       "      <th>Neighbourhood</th>\n",
       "    </tr>\n",
       "  </thead>\n",
       "  <tbody>\n",
       "    <tr>\n",
       "      <th>0</th>\n",
       "      <td>M1B</td>\n",
       "      <td>Scarborough</td>\n",
       "      <td>Malvern, Rouge</td>\n",
       "    </tr>\n",
       "    <tr>\n",
       "      <th>1</th>\n",
       "      <td>M1C</td>\n",
       "      <td>Scarborough</td>\n",
       "      <td>Rouge Hill, Port Union, Highland Creek</td>\n",
       "    </tr>\n",
       "    <tr>\n",
       "      <th>2</th>\n",
       "      <td>M1E</td>\n",
       "      <td>Scarborough</td>\n",
       "      <td>Guildwood, Morningside, West Hill</td>\n",
       "    </tr>\n",
       "    <tr>\n",
       "      <th>3</th>\n",
       "      <td>M1G</td>\n",
       "      <td>Scarborough</td>\n",
       "      <td>Woburn</td>\n",
       "    </tr>\n",
       "    <tr>\n",
       "      <th>4</th>\n",
       "      <td>M1H</td>\n",
       "      <td>Scarborough</td>\n",
       "      <td>Cedarbrae</td>\n",
       "    </tr>\n",
       "  </tbody>\n",
       "</table>\n",
       "</div>"
      ],
      "text/plain": [
       "  Postal Code      Borough                           Neighbourhood\n",
       "0         M1B  Scarborough                          Malvern, Rouge\n",
       "1         M1C  Scarborough  Rouge Hill, Port Union, Highland Creek\n",
       "2         M1E  Scarborough       Guildwood, Morningside, West Hill\n",
       "3         M1G  Scarborough                                  Woburn\n",
       "4         M1H  Scarborough                               Cedarbrae"
      ]
     },
     "execution_count": 145,
     "metadata": {},
     "output_type": "execute_result"
    }
   ],
   "source": [
    "new_df.head()"
   ]
  },
  {
   "cell_type": "markdown",
   "metadata": {},
   "source": [
    "#### dataframe shape after cleaning"
   ]
  },
  {
   "cell_type": "code",
   "execution_count": 146,
   "metadata": {},
   "outputs": [
    {
     "data": {
      "text/plain": [
       "(103, 3)"
      ]
     },
     "execution_count": 146,
     "metadata": {},
     "output_type": "execute_result"
    }
   ],
   "source": [
    "new_df.shape"
   ]
  },
  {
   "cell_type": "markdown",
   "metadata": {
    "button": false,
    "new_sheet": false,
    "run_control": {
     "read_only": false
    }
   },
   "source": [
    "## 2. Getting lontitude and longitude data\n"
   ]
  },
  {
   "cell_type": "code",
   "execution_count": 148,
   "metadata": {
    "button": false,
    "new_sheet": false,
    "run_control": {
     "read_only": false
    }
   },
   "outputs": [],
   "source": [
    "coord=pd.read_csv('Geospatial_Coordinates.csv')\n",
    "coord=coord.sort_values(by=['Postal Code'])"
   ]
  },
  {
   "cell_type": "code",
   "execution_count": 149,
   "metadata": {},
   "outputs": [
    {
     "data": {
      "text/html": [
       "<div>\n",
       "<style scoped>\n",
       "    .dataframe tbody tr th:only-of-type {\n",
       "        vertical-align: middle;\n",
       "    }\n",
       "\n",
       "    .dataframe tbody tr th {\n",
       "        vertical-align: top;\n",
       "    }\n",
       "\n",
       "    .dataframe thead th {\n",
       "        text-align: right;\n",
       "    }\n",
       "</style>\n",
       "<table border=\"1\" class=\"dataframe\">\n",
       "  <thead>\n",
       "    <tr style=\"text-align: right;\">\n",
       "      <th></th>\n",
       "      <th>Postal Code</th>\n",
       "      <th>Latitude</th>\n",
       "      <th>Longitude</th>\n",
       "    </tr>\n",
       "  </thead>\n",
       "  <tbody>\n",
       "    <tr>\n",
       "      <th>0</th>\n",
       "      <td>M1B</td>\n",
       "      <td>43.806686</td>\n",
       "      <td>-79.194353</td>\n",
       "    </tr>\n",
       "    <tr>\n",
       "      <th>1</th>\n",
       "      <td>M1C</td>\n",
       "      <td>43.784535</td>\n",
       "      <td>-79.160497</td>\n",
       "    </tr>\n",
       "    <tr>\n",
       "      <th>2</th>\n",
       "      <td>M1E</td>\n",
       "      <td>43.763573</td>\n",
       "      <td>-79.188711</td>\n",
       "    </tr>\n",
       "    <tr>\n",
       "      <th>3</th>\n",
       "      <td>M1G</td>\n",
       "      <td>43.770992</td>\n",
       "      <td>-79.216917</td>\n",
       "    </tr>\n",
       "    <tr>\n",
       "      <th>4</th>\n",
       "      <td>M1H</td>\n",
       "      <td>43.773136</td>\n",
       "      <td>-79.239476</td>\n",
       "    </tr>\n",
       "  </tbody>\n",
       "</table>\n",
       "</div>"
      ],
      "text/plain": [
       "  Postal Code   Latitude  Longitude\n",
       "0         M1B  43.806686 -79.194353\n",
       "1         M1C  43.784535 -79.160497\n",
       "2         M1E  43.763573 -79.188711\n",
       "3         M1G  43.770992 -79.216917\n",
       "4         M1H  43.773136 -79.239476"
      ]
     },
     "execution_count": 149,
     "metadata": {},
     "output_type": "execute_result"
    }
   ],
   "source": [
    "coord.head()"
   ]
  },
  {
   "cell_type": "code",
   "execution_count": 150,
   "metadata": {},
   "outputs": [
    {
     "data": {
      "text/plain": [
       "(103, 3)"
      ]
     },
     "execution_count": 150,
     "metadata": {},
     "output_type": "execute_result"
    }
   ],
   "source": [
    "coord.shape"
   ]
  },
  {
   "cell_type": "code",
   "execution_count": 151,
   "metadata": {},
   "outputs": [],
   "source": [
    "for i in range(len(new_df)):\n",
    "    if new_df['Postal Code'].iloc[i] != coord['Postal Code'].iloc[i]:\n",
    "        print(i,'False')"
   ]
  },
  {
   "cell_type": "code",
   "execution_count": 152,
   "metadata": {},
   "outputs": [],
   "source": [
    "new_df[['Latitude','Longitude']]= coord[['Latitude','Longitude']]"
   ]
  },
  {
   "cell_type": "code",
   "execution_count": 153,
   "metadata": {},
   "outputs": [
    {
     "data": {
      "text/html": [
       "<div>\n",
       "<style scoped>\n",
       "    .dataframe tbody tr th:only-of-type {\n",
       "        vertical-align: middle;\n",
       "    }\n",
       "\n",
       "    .dataframe tbody tr th {\n",
       "        vertical-align: top;\n",
       "    }\n",
       "\n",
       "    .dataframe thead th {\n",
       "        text-align: right;\n",
       "    }\n",
       "</style>\n",
       "<table border=\"1\" class=\"dataframe\">\n",
       "  <thead>\n",
       "    <tr style=\"text-align: right;\">\n",
       "      <th></th>\n",
       "      <th>Postal Code</th>\n",
       "      <th>Borough</th>\n",
       "      <th>Neighbourhood</th>\n",
       "      <th>Latitude</th>\n",
       "      <th>Longitude</th>\n",
       "    </tr>\n",
       "  </thead>\n",
       "  <tbody>\n",
       "    <tr>\n",
       "      <th>0</th>\n",
       "      <td>M1B</td>\n",
       "      <td>Scarborough</td>\n",
       "      <td>Malvern, Rouge</td>\n",
       "      <td>43.806686</td>\n",
       "      <td>-79.194353</td>\n",
       "    </tr>\n",
       "    <tr>\n",
       "      <th>1</th>\n",
       "      <td>M1C</td>\n",
       "      <td>Scarborough</td>\n",
       "      <td>Rouge Hill, Port Union, Highland Creek</td>\n",
       "      <td>43.784535</td>\n",
       "      <td>-79.160497</td>\n",
       "    </tr>\n",
       "    <tr>\n",
       "      <th>2</th>\n",
       "      <td>M1E</td>\n",
       "      <td>Scarborough</td>\n",
       "      <td>Guildwood, Morningside, West Hill</td>\n",
       "      <td>43.763573</td>\n",
       "      <td>-79.188711</td>\n",
       "    </tr>\n",
       "    <tr>\n",
       "      <th>3</th>\n",
       "      <td>M1G</td>\n",
       "      <td>Scarborough</td>\n",
       "      <td>Woburn</td>\n",
       "      <td>43.770992</td>\n",
       "      <td>-79.216917</td>\n",
       "    </tr>\n",
       "    <tr>\n",
       "      <th>4</th>\n",
       "      <td>M1H</td>\n",
       "      <td>Scarborough</td>\n",
       "      <td>Cedarbrae</td>\n",
       "      <td>43.773136</td>\n",
       "      <td>-79.239476</td>\n",
       "    </tr>\n",
       "  </tbody>\n",
       "</table>\n",
       "</div>"
      ],
      "text/plain": [
       "  Postal Code      Borough                           Neighbourhood   Latitude  \\\n",
       "0         M1B  Scarborough                          Malvern, Rouge  43.806686   \n",
       "1         M1C  Scarborough  Rouge Hill, Port Union, Highland Creek  43.784535   \n",
       "2         M1E  Scarborough       Guildwood, Morningside, West Hill  43.763573   \n",
       "3         M1G  Scarborough                                  Woburn  43.770992   \n",
       "4         M1H  Scarborough                               Cedarbrae  43.773136   \n",
       "\n",
       "   Longitude  \n",
       "0 -79.194353  \n",
       "1 -79.160497  \n",
       "2 -79.188711  \n",
       "3 -79.216917  \n",
       "4 -79.239476  "
      ]
     },
     "execution_count": 153,
     "metadata": {},
     "output_type": "execute_result"
    }
   ],
   "source": [
    "new_df.head()"
   ]
  },
  {
   "cell_type": "code",
   "execution_count": 154,
   "metadata": {},
   "outputs": [],
   "source": [
    "df_toronto=new_df[new_df['Borough'].str.contains(\"Toronto\")].reset_index(drop=True)"
   ]
  },
  {
   "cell_type": "markdown",
   "metadata": {},
   "source": [
    "#### Toronto data\n"
   ]
  },
  {
   "cell_type": "code",
   "execution_count": 155,
   "metadata": {},
   "outputs": [
    {
     "data": {
      "text/html": [
       "<div>\n",
       "<style scoped>\n",
       "    .dataframe tbody tr th:only-of-type {\n",
       "        vertical-align: middle;\n",
       "    }\n",
       "\n",
       "    .dataframe tbody tr th {\n",
       "        vertical-align: top;\n",
       "    }\n",
       "\n",
       "    .dataframe thead th {\n",
       "        text-align: right;\n",
       "    }\n",
       "</style>\n",
       "<table border=\"1\" class=\"dataframe\">\n",
       "  <thead>\n",
       "    <tr style=\"text-align: right;\">\n",
       "      <th></th>\n",
       "      <th>Postal Code</th>\n",
       "      <th>Borough</th>\n",
       "      <th>Neighbourhood</th>\n",
       "      <th>Latitude</th>\n",
       "      <th>Longitude</th>\n",
       "    </tr>\n",
       "  </thead>\n",
       "  <tbody>\n",
       "    <tr>\n",
       "      <th>0</th>\n",
       "      <td>M4E</td>\n",
       "      <td>East Toronto</td>\n",
       "      <td>The Beaches</td>\n",
       "      <td>43.676357</td>\n",
       "      <td>-79.293031</td>\n",
       "    </tr>\n",
       "    <tr>\n",
       "      <th>1</th>\n",
       "      <td>M4K</td>\n",
       "      <td>East Toronto</td>\n",
       "      <td>The Danforth West, Riverdale</td>\n",
       "      <td>43.679557</td>\n",
       "      <td>-79.352188</td>\n",
       "    </tr>\n",
       "    <tr>\n",
       "      <th>2</th>\n",
       "      <td>M4L</td>\n",
       "      <td>East Toronto</td>\n",
       "      <td>India Bazaar, The Beaches West</td>\n",
       "      <td>43.668999</td>\n",
       "      <td>-79.315572</td>\n",
       "    </tr>\n",
       "    <tr>\n",
       "      <th>3</th>\n",
       "      <td>M4M</td>\n",
       "      <td>East Toronto</td>\n",
       "      <td>Studio District</td>\n",
       "      <td>43.659526</td>\n",
       "      <td>-79.340923</td>\n",
       "    </tr>\n",
       "    <tr>\n",
       "      <th>4</th>\n",
       "      <td>M4N</td>\n",
       "      <td>Central Toronto</td>\n",
       "      <td>Lawrence Park</td>\n",
       "      <td>43.728020</td>\n",
       "      <td>-79.388790</td>\n",
       "    </tr>\n",
       "  </tbody>\n",
       "</table>\n",
       "</div>"
      ],
      "text/plain": [
       "  Postal Code          Borough                   Neighbourhood   Latitude  \\\n",
       "0         M4E     East Toronto                     The Beaches  43.676357   \n",
       "1         M4K     East Toronto    The Danforth West, Riverdale  43.679557   \n",
       "2         M4L     East Toronto  India Bazaar, The Beaches West  43.668999   \n",
       "3         M4M     East Toronto                 Studio District  43.659526   \n",
       "4         M4N  Central Toronto                   Lawrence Park  43.728020   \n",
       "\n",
       "   Longitude  \n",
       "0 -79.293031  \n",
       "1 -79.352188  \n",
       "2 -79.315572  \n",
       "3 -79.340923  \n",
       "4 -79.388790  "
      ]
     },
     "execution_count": 155,
     "metadata": {},
     "output_type": "execute_result"
    }
   ],
   "source": [
    "df_toronto.head()"
   ]
  },
  {
   "cell_type": "markdown",
   "metadata": {},
   "source": [
    "#### Use geopy library to get the latitude and longitude values of New York City.\n"
   ]
  },
  {
   "cell_type": "code",
   "execution_count": 156,
   "metadata": {},
   "outputs": [
    {
     "name": "stdout",
     "output_type": "stream",
     "text": [
      "The geograpical coordinate of Toronto are 43.6534817, -79.3839347.\n"
     ]
    }
   ],
   "source": [
    "address = 'Toronto, ON'\n",
    "\n",
    "geolocator = Nominatim(user_agent=\"ny_explorer\")\n",
    "location = geolocator.geocode(address)\n",
    "latitude = location.latitude\n",
    "longitude = location.longitude\n",
    "print('The geograpical coordinate of Toronto are {}, {}.'.format(latitude, longitude))"
   ]
  },
  {
   "cell_type": "markdown",
   "metadata": {},
   "source": [
    "#### Create a map of Toronto with neighborhoods\n"
   ]
  },
  {
   "cell_type": "code",
   "execution_count": 175,
   "metadata": {
    "scrolled": true
   },
   "outputs": [
    {
     "data": {
      "text/html": [
       "<div style=\"width:100%;\"><div style=\"position:relative;width:100%;height:0;padding-bottom:60%;\"><span style=\"color:#565656\">Make this Notebook Trusted to load map: File -> Trust Notebook</span><iframe src=\"about:blank\" style=\"position:absolute;width:100%;height:100%;left:0;top:0;border:none !important;\" data-html=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 onload=\"this.contentDocument.open();this.contentDocument.write(atob(this.getAttribute('data-html')));this.contentDocument.close();\" allowfullscreen webkitallowfullscreen mozallowfullscreen></iframe></div></div>"
      ],
      "text/plain": [
       "<folium.folium.Map at 0x7fdcb35b0b20>"
      ]
     },
     "execution_count": 175,
     "metadata": {},
     "output_type": "execute_result"
    }
   ],
   "source": [
    "# create map of Toronto using latitude and longitude values\n",
    "map_toronto = folium.Map(location=[latitude, longitude], zoom_start=11)\n",
    "\n",
    "# add markers to map\n",
    "for lat, lng, borough, neigh in zip(df_toronto['Latitude'], \n",
    "                                           df_toronto['Longitude'], \n",
    "                                           df_toronto['Borough'], \n",
    "                                           df_toronto['Neighbourhood']):\n",
    "    label = '{}, {}'.format(neigh, borough)\n",
    "    label = folium.Popup(label, parse_html=True)\n",
    "    folium.CircleMarker(\n",
    "        [lat, lng],\n",
    "        radius=5,\n",
    "        popup=label,\n",
    "        color='blue',\n",
    "        fill=True,\n",
    "        fill_color='#3186cc',\n",
    "        fill_opacity=0.7,\n",
    "        parse_html=False).add_to(map_toronto)  \n",
    "    \n",
    "map_toronto"
   ]
  },
  {
   "cell_type": "code",
   "execution_count": 178,
   "metadata": {},
   "outputs": [
    {
     "data": {
      "image/png": "[encoded data removed]",
      "text/plain": [
       "<Figure size 432x288 with 1 Axes>"
      ]
     },
     "metadata": {
      "needs_background": "light"
     },
     "output_type": "display_data"
    }
   ],
   "source": [
    "img = mpimg.imread('Screenshot 2020-12-01 at 11.25.20.png')\n",
    "imgplot = plt.imshow(img)\n",
    "plt.show()"
   ]
  },
  {
   "cell_type": "markdown",
   "metadata": {},
   "source": [
    "#### Foursquare data\n"
   ]
  },
  {
   "cell_type": "code",
   "execution_count": 159,
   "metadata": {},
   "outputs": [
    {
     "name": "stdout",
     "output_type": "stream",
     "text": [
      "Your credentails:\n",
      "CLIENT_ID: N4JYMKA3RZZCDDNABWVMV3D4HNAXHKKUVYJQBZNBTUKOPICV\n",
      "CLIENT_SECRET:E4DMWWD0YZXEZNRI3PDGAGZ2T1KWABFJWSQPD5EXEJISGBP2\n"
     ]
    }
   ],
   "source": [
    "CLIENT_ID = 'N4JYMKA3RZZCDDNABWVMV3D4HNAXHKKUVYJQBZNBTUKOPICV' # your Foursquare ID\n",
    "CLIENT_SECRET = 'E4DMWWD0YZXEZNRI3PDGAGZ2T1KWABFJWSQPD5EXEJISGBP2' # your Foursquare Secret\n",
    "VERSION = '20180605' # Foursquare API version\n",
    "LIMIT = 100 # A default Foursquare API limit value\n",
    "\n",
    "print('Your credentails:')\n",
    "print('CLIENT_ID: ' + CLIENT_ID)\n",
    "print('CLIENT_SECRET:' + CLIENT_SECRET)"
   ]
  },
  {
   "cell_type": "markdown",
   "metadata": {},
   "source": [
    "#### Function to iterate venue for each neighborhood in Toronto\n"
   ]
  },
  {
   "cell_type": "code",
   "execution_count": 160,
   "metadata": {},
   "outputs": [],
   "source": [
    "def getNearbyVenues(names, latitudes, longitudes, radius=500):\n",
    "    \n",
    "    venues_list=[]\n",
    "    for name, lat, lng in zip(names, latitudes, longitudes):\n",
    "        print(name)\n",
    "            \n",
    "        # create the API request URL\n",
    "        url = 'https://api.foursquare.com/v2/venues/explore?&client_id={}&client_secret={}&v={}&ll={},{}&radius={}&limit={}'.format(\n",
    "            CLIENT_ID, \n",
    "            CLIENT_SECRET, \n",
    "            VERSION, \n",
    "            lat, \n",
    "            lng, \n",
    "            radius, \n",
    "            LIMIT)\n",
    "            \n",
    "        # make the GET request\n",
    "        results = requests.get(url).json()[\"response\"]['groups'][0]['items']\n",
    "        \n",
    "        # return only relevant information for each nearby venue\n",
    "        venues_list.append([(\n",
    "            name, \n",
    "            lat, \n",
    "            lng, \n",
    "            v['venue']['name'], \n",
    "            v['venue']['location']['lat'], \n",
    "            v['venue']['location']['lng'],  \n",
    "            v['venue']['categories'][0]['name']) for v in results])\n",
    "\n",
    "    nearby_venues = pd.DataFrame([item for venue_list in venues_list for item in venue_list])\n",
    "    nearby_venues.columns = ['Neighborhood', \n",
    "                  'Neighborhood Latitude', \n",
    "                  'Neighborhood Longitude', \n",
    "                  'Venue', \n",
    "                  'Venue Latitude', \n",
    "                  'Venue Longitude', \n",
    "                  'Venue Category']\n",
    "    \n",
    "    return(nearby_venues)"
   ]
  },
  {
   "cell_type": "code",
   "execution_count": 161,
   "metadata": {},
   "outputs": [
    {
     "data": {
      "text/html": [
       "<div>\n",
       "<style scoped>\n",
       "    .dataframe tbody tr th:only-of-type {\n",
       "        vertical-align: middle;\n",
       "    }\n",
       "\n",
       "    .dataframe tbody tr th {\n",
       "        vertical-align: top;\n",
       "    }\n",
       "\n",
       "    .dataframe thead th {\n",
       "        text-align: right;\n",
       "    }\n",
       "</style>\n",
       "<table border=\"1\" class=\"dataframe\">\n",
       "  <thead>\n",
       "    <tr style=\"text-align: right;\">\n",
       "      <th></th>\n",
       "      <th>Postal Code</th>\n",
       "      <th>Borough</th>\n",
       "      <th>Neighbourhood</th>\n",
       "      <th>Latitude</th>\n",
       "      <th>Longitude</th>\n",
       "    </tr>\n",
       "  </thead>\n",
       "  <tbody>\n",
       "    <tr>\n",
       "      <th>34</th>\n",
       "      <td>M6P</td>\n",
       "      <td>West Toronto</td>\n",
       "      <td>High Park, The Junction South</td>\n",
       "      <td>43.661608</td>\n",
       "      <td>-79.464763</td>\n",
       "    </tr>\n",
       "    <tr>\n",
       "      <th>35</th>\n",
       "      <td>M6R</td>\n",
       "      <td>West Toronto</td>\n",
       "      <td>Parkdale, Roncesvalles</td>\n",
       "      <td>43.648960</td>\n",
       "      <td>-79.456325</td>\n",
       "    </tr>\n",
       "    <tr>\n",
       "      <th>36</th>\n",
       "      <td>M6S</td>\n",
       "      <td>West Toronto</td>\n",
       "      <td>Runnymede, Swansea</td>\n",
       "      <td>43.651571</td>\n",
       "      <td>-79.484450</td>\n",
       "    </tr>\n",
       "    <tr>\n",
       "      <th>37</th>\n",
       "      <td>M7A</td>\n",
       "      <td>Downtown Toronto</td>\n",
       "      <td>Queen's Park, Ontario Provincial Government</td>\n",
       "      <td>43.662301</td>\n",
       "      <td>-79.389494</td>\n",
       "    </tr>\n",
       "    <tr>\n",
       "      <th>38</th>\n",
       "      <td>M7Y</td>\n",
       "      <td>East Toronto</td>\n",
       "      <td>Business reply mail Processing Centre, South C...</td>\n",
       "      <td>43.662744</td>\n",
       "      <td>-79.321558</td>\n",
       "    </tr>\n",
       "  </tbody>\n",
       "</table>\n",
       "</div>"
      ],
      "text/plain": [
       "   Postal Code           Borough  \\\n",
       "34         M6P      West Toronto   \n",
       "35         M6R      West Toronto   \n",
       "36         M6S      West Toronto   \n",
       "37         M7A  Downtown Toronto   \n",
       "38         M7Y      East Toronto   \n",
       "\n",
       "                                        Neighbourhood   Latitude  Longitude  \n",
       "34                      High Park, The Junction South  43.661608 -79.464763  \n",
       "35                             Parkdale, Roncesvalles  43.648960 -79.456325  \n",
       "36                                 Runnymede, Swansea  43.651571 -79.484450  \n",
       "37        Queen's Park, Ontario Provincial Government  43.662301 -79.389494  \n",
       "38  Business reply mail Processing Centre, South C...  43.662744 -79.321558  "
      ]
     },
     "execution_count": 161,
     "metadata": {},
     "output_type": "execute_result"
    }
   ],
   "source": [
    "df_toronto.tail()"
   ]
  },
  {
   "cell_type": "code",
   "execution_count": 39,
   "metadata": {},
   "outputs": [
    {
     "name": "stdout",
     "output_type": "stream",
     "text": [
      "The Beaches\n",
      "The Danforth West, Riverdale\n",
      "India Bazaar, The Beaches West\n",
      "Studio District\n",
      "Lawrence Park\n",
      "Davisville North\n",
      "North Toronto West,  Lawrence Park\n",
      "Davisville\n",
      "Moore Park, Summerhill East\n",
      "Summerhill West, Rathnelly, South Hill, Forest Hill SE, Deer Park\n",
      "Rosedale\n",
      "St. James Town, Cabbagetown\n",
      "Church and Wellesley\n",
      "Regent Park, Harbourfront\n",
      "Garden District, Ryerson\n",
      "St. James Town\n",
      "Berczy Park\n",
      "Central Bay Street\n",
      "Richmond, Adelaide, King\n",
      "Harbourfront East, Union Station, Toronto Islands\n",
      "Toronto Dominion Centre, Design Exchange\n",
      "Commerce Court, Victoria Hotel\n",
      "Roselawn\n",
      "Forest Hill North & West, Forest Hill Road Park\n",
      "The Annex, North Midtown, Yorkville\n",
      "University of Toronto, Harbord\n",
      "Kensington Market, Chinatown, Grange Park\n",
      "CN Tower, King and Spadina, Railway Lands, Harbourfront West, Bathurst Quay, South Niagara, Island airport\n",
      "Stn A PO Boxes\n",
      "First Canadian Place, Underground city\n",
      "Christie\n",
      "Dufferin, Dovercourt Village\n",
      "Little Portugal, Trinity\n",
      "Brockton, Parkdale Village, Exhibition Place\n",
      "High Park, The Junction South\n",
      "Parkdale, Roncesvalles\n",
      "Runnymede, Swansea\n",
      "Queen's Park, Ontario Provincial Government\n",
      "Business reply mail Processing Centre, South Central Letter Processing Plant Toronto\n"
     ]
    }
   ],
   "source": [
    "toronto_venues = getNearbyVenues(names=df_toronto['Neighbourhood'],\n",
    "                                   latitudes=df_toronto['Latitude'],\n",
    "                                   longitudes=df_toronto['Longitude']\n",
    "                                  )"
   ]
  },
  {
   "cell_type": "code",
   "execution_count": 162,
   "metadata": {},
   "outputs": [
    {
     "name": "stdout",
     "output_type": "stream",
     "text": [
      "(1624, 7)\n"
     ]
    },
    {
     "data": {
      "text/html": [
       "<div>\n",
       "<style scoped>\n",
       "    .dataframe tbody tr th:only-of-type {\n",
       "        vertical-align: middle;\n",
       "    }\n",
       "\n",
       "    .dataframe tbody tr th {\n",
       "        vertical-align: top;\n",
       "    }\n",
       "\n",
       "    .dataframe thead th {\n",
       "        text-align: right;\n",
       "    }\n",
       "</style>\n",
       "<table border=\"1\" class=\"dataframe\">\n",
       "  <thead>\n",
       "    <tr style=\"text-align: right;\">\n",
       "      <th></th>\n",
       "      <th>Neighborhood</th>\n",
       "      <th>Neighborhood Latitude</th>\n",
       "      <th>Neighborhood Longitude</th>\n",
       "      <th>Venue</th>\n",
       "      <th>Venue Latitude</th>\n",
       "      <th>Venue Longitude</th>\n",
       "      <th>Venue Category</th>\n",
       "    </tr>\n",
       "  </thead>\n",
       "  <tbody>\n",
       "    <tr>\n",
       "      <th>0</th>\n",
       "      <td>The Beaches</td>\n",
       "      <td>43.676357</td>\n",
       "      <td>-79.293031</td>\n",
       "      <td>Glen Manor Ravine</td>\n",
       "      <td>43.676821</td>\n",
       "      <td>-79.293942</td>\n",
       "      <td>Trail</td>\n",
       "    </tr>\n",
       "    <tr>\n",
       "      <th>1</th>\n",
       "      <td>The Beaches</td>\n",
       "      <td>43.676357</td>\n",
       "      <td>-79.293031</td>\n",
       "      <td>The Big Carrot Natural Food Market</td>\n",
       "      <td>43.678879</td>\n",
       "      <td>-79.297734</td>\n",
       "      <td>Health Food Store</td>\n",
       "    </tr>\n",
       "    <tr>\n",
       "      <th>2</th>\n",
       "      <td>The Beaches</td>\n",
       "      <td>43.676357</td>\n",
       "      <td>-79.293031</td>\n",
       "      <td>Grover Pub and Grub</td>\n",
       "      <td>43.679181</td>\n",
       "      <td>-79.297215</td>\n",
       "      <td>Pub</td>\n",
       "    </tr>\n",
       "  </tbody>\n",
       "</table>\n",
       "</div>"
      ],
      "text/plain": [
       "  Neighborhood  Neighborhood Latitude  Neighborhood Longitude  \\\n",
       "0  The Beaches              43.676357              -79.293031   \n",
       "1  The Beaches              43.676357              -79.293031   \n",
       "2  The Beaches              43.676357              -79.293031   \n",
       "\n",
       "                                Venue  Venue Latitude  Venue Longitude  \\\n",
       "0                   Glen Manor Ravine       43.676821       -79.293942   \n",
       "1  The Big Carrot Natural Food Market       43.678879       -79.297734   \n",
       "2                 Grover Pub and Grub       43.679181       -79.297215   \n",
       "\n",
       "      Venue Category  \n",
       "0              Trail  \n",
       "1  Health Food Store  \n",
       "2                Pub  "
      ]
     },
     "execution_count": 162,
     "metadata": {},
     "output_type": "execute_result"
    }
   ],
   "source": [
    "print(toronto_venues.shape)\n",
    "toronto_venues.head(3)"
   ]
  },
  {
   "cell_type": "code",
   "execution_count": 163,
   "metadata": {},
   "outputs": [
    {
     "name": "stdout",
     "output_type": "stream",
     "text": [
      "There are 235 uniques categories.\n"
     ]
    }
   ],
   "source": [
    "print('There are {} uniques categories.'.format(len(toronto_venues['Venue Category'].unique())))"
   ]
  },
  {
   "cell_type": "markdown",
   "metadata": {},
   "source": [
    "### Analyzing the data"
   ]
  },
  {
   "cell_type": "code",
   "execution_count": 164,
   "metadata": {},
   "outputs": [
    {
     "data": {
      "text/html": [
       "<div>\n",
       "<style scoped>\n",
       "    .dataframe tbody tr th:only-of-type {\n",
       "        vertical-align: middle;\n",
       "    }\n",
       "\n",
       "    .dataframe tbody tr th {\n",
       "        vertical-align: top;\n",
       "    }\n",
       "\n",
       "    .dataframe thead th {\n",
       "        text-align: right;\n",
       "    }\n",
       "</style>\n",
       "<table border=\"1\" class=\"dataframe\">\n",
       "  <thead>\n",
       "    <tr style=\"text-align: right;\">\n",
       "      <th></th>\n",
       "      <th>Yoga Studio</th>\n",
       "      <th>Afghan Restaurant</th>\n",
       "      <th>Airport</th>\n",
       "      <th>Airport Food Court</th>\n",
       "      <th>Airport Gate</th>\n",
       "      <th>Airport Lounge</th>\n",
       "      <th>Airport Service</th>\n",
       "      <th>Airport Terminal</th>\n",
       "      <th>American Restaurant</th>\n",
       "      <th>Antique Shop</th>\n",
       "      <th>...</th>\n",
       "      <th>Thai Restaurant</th>\n",
       "      <th>Theater</th>\n",
       "      <th>Theme Restaurant</th>\n",
       "      <th>Toy / Game Store</th>\n",
       "      <th>Trail</th>\n",
       "      <th>Train Station</th>\n",
       "      <th>Vegetarian / Vegan Restaurant</th>\n",
       "      <th>Video Game Store</th>\n",
       "      <th>Vietnamese Restaurant</th>\n",
       "      <th>Wine Bar</th>\n",
       "    </tr>\n",
       "  </thead>\n",
       "  <tbody>\n",
       "    <tr>\n",
       "      <th>0</th>\n",
       "      <td>0</td>\n",
       "      <td>0</td>\n",
       "      <td>0</td>\n",
       "      <td>0</td>\n",
       "      <td>0</td>\n",
       "      <td>0</td>\n",
       "      <td>0</td>\n",
       "      <td>0</td>\n",
       "      <td>0</td>\n",
       "      <td>0</td>\n",
       "      <td>...</td>\n",
       "      <td>0</td>\n",
       "      <td>0</td>\n",
       "      <td>0</td>\n",
       "      <td>0</td>\n",
       "      <td>1</td>\n",
       "      <td>0</td>\n",
       "      <td>0</td>\n",
       "      <td>0</td>\n",
       "      <td>0</td>\n",
       "      <td>0</td>\n",
       "    </tr>\n",
       "    <tr>\n",
       "      <th>1</th>\n",
       "      <td>0</td>\n",
       "      <td>0</td>\n",
       "      <td>0</td>\n",
       "      <td>0</td>\n",
       "      <td>0</td>\n",
       "      <td>0</td>\n",
       "      <td>0</td>\n",
       "      <td>0</td>\n",
       "      <td>0</td>\n",
       "      <td>0</td>\n",
       "      <td>...</td>\n",
       "      <td>0</td>\n",
       "      <td>0</td>\n",
       "      <td>0</td>\n",
       "      <td>0</td>\n",
       "      <td>0</td>\n",
       "      <td>0</td>\n",
       "      <td>0</td>\n",
       "      <td>0</td>\n",
       "      <td>0</td>\n",
       "      <td>0</td>\n",
       "    </tr>\n",
       "    <tr>\n",
       "      <th>2</th>\n",
       "      <td>0</td>\n",
       "      <td>0</td>\n",
       "      <td>0</td>\n",
       "      <td>0</td>\n",
       "      <td>0</td>\n",
       "      <td>0</td>\n",
       "      <td>0</td>\n",
       "      <td>0</td>\n",
       "      <td>0</td>\n",
       "      <td>0</td>\n",
       "      <td>...</td>\n",
       "      <td>0</td>\n",
       "      <td>0</td>\n",
       "      <td>0</td>\n",
       "      <td>0</td>\n",
       "      <td>0</td>\n",
       "      <td>0</td>\n",
       "      <td>0</td>\n",
       "      <td>0</td>\n",
       "      <td>0</td>\n",
       "      <td>0</td>\n",
       "    </tr>\n",
       "    <tr>\n",
       "      <th>3</th>\n",
       "      <td>0</td>\n",
       "      <td>0</td>\n",
       "      <td>0</td>\n",
       "      <td>0</td>\n",
       "      <td>0</td>\n",
       "      <td>0</td>\n",
       "      <td>0</td>\n",
       "      <td>0</td>\n",
       "      <td>0</td>\n",
       "      <td>0</td>\n",
       "      <td>...</td>\n",
       "      <td>0</td>\n",
       "      <td>0</td>\n",
       "      <td>0</td>\n",
       "      <td>0</td>\n",
       "      <td>0</td>\n",
       "      <td>0</td>\n",
       "      <td>0</td>\n",
       "      <td>0</td>\n",
       "      <td>0</td>\n",
       "      <td>0</td>\n",
       "    </tr>\n",
       "    <tr>\n",
       "      <th>4</th>\n",
       "      <td>0</td>\n",
       "      <td>0</td>\n",
       "      <td>0</td>\n",
       "      <td>0</td>\n",
       "      <td>0</td>\n",
       "      <td>0</td>\n",
       "      <td>0</td>\n",
       "      <td>0</td>\n",
       "      <td>0</td>\n",
       "      <td>0</td>\n",
       "      <td>...</td>\n",
       "      <td>0</td>\n",
       "      <td>0</td>\n",
       "      <td>0</td>\n",
       "      <td>0</td>\n",
       "      <td>0</td>\n",
       "      <td>0</td>\n",
       "      <td>0</td>\n",
       "      <td>0</td>\n",
       "      <td>0</td>\n",
       "      <td>0</td>\n",
       "    </tr>\n",
       "  </tbody>\n",
       "</table>\n",
       "<p>5 rows × 235 columns</p>\n",
       "</div>"
      ],
      "text/plain": [
       "   Yoga Studio  Afghan Restaurant  Airport  Airport Food Court  Airport Gate  \\\n",
       "0            0                  0        0                   0             0   \n",
       "1            0                  0        0                   0             0   \n",
       "2            0                  0        0                   0             0   \n",
       "3            0                  0        0                   0             0   \n",
       "4            0                  0        0                   0             0   \n",
       "\n",
       "   Airport Lounge  Airport Service  Airport Terminal  American Restaurant  \\\n",
       "0               0                0                 0                    0   \n",
       "1               0                0                 0                    0   \n",
       "2               0                0                 0                    0   \n",
       "3               0                0                 0                    0   \n",
       "4               0                0                 0                    0   \n",
       "\n",
       "   Antique Shop  ...  Thai Restaurant  Theater  Theme Restaurant  \\\n",
       "0             0  ...                0        0                 0   \n",
       "1             0  ...                0        0                 0   \n",
       "2             0  ...                0        0                 0   \n",
       "3             0  ...                0        0                 0   \n",
       "4             0  ...                0        0                 0   \n",
       "\n",
       "   Toy / Game Store  Trail  Train Station  Vegetarian / Vegan Restaurant  \\\n",
       "0                 0      1              0                              0   \n",
       "1                 0      0              0                              0   \n",
       "2                 0      0              0                              0   \n",
       "3                 0      0              0                              0   \n",
       "4                 0      0              0                              0   \n",
       "\n",
       "   Video Game Store  Vietnamese Restaurant  Wine Bar  \n",
       "0                 0                      0         0  \n",
       "1                 0                      0         0  \n",
       "2                 0                      0         0  \n",
       "3                 0                      0         0  \n",
       "4                 0                      0         0  \n",
       "\n",
       "[5 rows x 235 columns]"
      ]
     },
     "execution_count": 164,
     "metadata": {},
     "output_type": "execute_result"
    }
   ],
   "source": [
    "# one hot encoding\n",
    "toronto_onehot = pd.get_dummies(toronto_venues[['Venue Category']], prefix=\"\", prefix_sep=\"\")\n",
    "\n",
    "# add neighborhood column back to dataframe\n",
    "toronto_onehot['Neighborhood'] = toronto_venues['Neighborhood'] \n",
    "\n",
    "# move neighborhood column to the first column\n",
    "fixed_columns = [toronto_onehot.columns[-1]] + list(toronto_onehot.columns[:-1])\n",
    "toronto_onehot = toronto_onehot[fixed_columns]\n",
    "\n",
    "toronto_onehot.head()"
   ]
  },
  {
   "cell_type": "code",
   "execution_count": 165,
   "metadata": {},
   "outputs": [
    {
     "data": {
      "text/plain": [
       "(1624, 235)"
      ]
     },
     "execution_count": 165,
     "metadata": {},
     "output_type": "execute_result"
    }
   ],
   "source": [
    "toronto_onehot.shape"
   ]
  },
  {
   "cell_type": "markdown",
   "metadata": {},
   "source": [
    "### grouping by mean"
   ]
  },
  {
   "cell_type": "code",
   "execution_count": 166,
   "metadata": {},
   "outputs": [
    {
     "data": {
      "text/html": [
       "<div>\n",
       "<style scoped>\n",
       "    .dataframe tbody tr th:only-of-type {\n",
       "        vertical-align: middle;\n",
       "    }\n",
       "\n",
       "    .dataframe tbody tr th {\n",
       "        vertical-align: top;\n",
       "    }\n",
       "\n",
       "    .dataframe thead th {\n",
       "        text-align: right;\n",
       "    }\n",
       "</style>\n",
       "<table border=\"1\" class=\"dataframe\">\n",
       "  <thead>\n",
       "    <tr style=\"text-align: right;\">\n",
       "      <th></th>\n",
       "      <th>Neighborhood</th>\n",
       "      <th>Yoga Studio</th>\n",
       "      <th>Afghan Restaurant</th>\n",
       "      <th>Airport</th>\n",
       "      <th>Airport Food Court</th>\n",
       "      <th>Airport Gate</th>\n",
       "      <th>Airport Lounge</th>\n",
       "      <th>Airport Service</th>\n",
       "      <th>Airport Terminal</th>\n",
       "      <th>American Restaurant</th>\n",
       "      <th>...</th>\n",
       "      <th>Thai Restaurant</th>\n",
       "      <th>Theater</th>\n",
       "      <th>Theme Restaurant</th>\n",
       "      <th>Toy / Game Store</th>\n",
       "      <th>Trail</th>\n",
       "      <th>Train Station</th>\n",
       "      <th>Vegetarian / Vegan Restaurant</th>\n",
       "      <th>Video Game Store</th>\n",
       "      <th>Vietnamese Restaurant</th>\n",
       "      <th>Wine Bar</th>\n",
       "    </tr>\n",
       "  </thead>\n",
       "  <tbody>\n",
       "    <tr>\n",
       "      <th>0</th>\n",
       "      <td>Berczy Park</td>\n",
       "      <td>0.0</td>\n",
       "      <td>0.0</td>\n",
       "      <td>0.0000</td>\n",
       "      <td>0.0000</td>\n",
       "      <td>0.0000</td>\n",
       "      <td>0.000</td>\n",
       "      <td>0.000</td>\n",
       "      <td>0.0000</td>\n",
       "      <td>0.0</td>\n",
       "      <td>...</td>\n",
       "      <td>0.018182</td>\n",
       "      <td>0.0</td>\n",
       "      <td>0.0</td>\n",
       "      <td>0.0</td>\n",
       "      <td>0.0</td>\n",
       "      <td>0.0</td>\n",
       "      <td>0.018182</td>\n",
       "      <td>0.0</td>\n",
       "      <td>0.0</td>\n",
       "      <td>0.0</td>\n",
       "    </tr>\n",
       "    <tr>\n",
       "      <th>1</th>\n",
       "      <td>Brockton, Parkdale Village, Exhibition Place</td>\n",
       "      <td>0.0</td>\n",
       "      <td>0.0</td>\n",
       "      <td>0.0000</td>\n",
       "      <td>0.0000</td>\n",
       "      <td>0.0000</td>\n",
       "      <td>0.000</td>\n",
       "      <td>0.000</td>\n",
       "      <td>0.0000</td>\n",
       "      <td>0.0</td>\n",
       "      <td>...</td>\n",
       "      <td>0.000000</td>\n",
       "      <td>0.0</td>\n",
       "      <td>0.0</td>\n",
       "      <td>0.0</td>\n",
       "      <td>0.0</td>\n",
       "      <td>0.0</td>\n",
       "      <td>0.000000</td>\n",
       "      <td>0.0</td>\n",
       "      <td>0.0</td>\n",
       "      <td>0.0</td>\n",
       "    </tr>\n",
       "    <tr>\n",
       "      <th>2</th>\n",
       "      <td>Business reply mail Processing Centre, South C...</td>\n",
       "      <td>0.0</td>\n",
       "      <td>0.0</td>\n",
       "      <td>0.0000</td>\n",
       "      <td>0.0000</td>\n",
       "      <td>0.0000</td>\n",
       "      <td>0.000</td>\n",
       "      <td>0.000</td>\n",
       "      <td>0.0000</td>\n",
       "      <td>0.0</td>\n",
       "      <td>...</td>\n",
       "      <td>0.000000</td>\n",
       "      <td>0.0</td>\n",
       "      <td>0.0</td>\n",
       "      <td>0.0</td>\n",
       "      <td>0.0</td>\n",
       "      <td>0.0</td>\n",
       "      <td>0.000000</td>\n",
       "      <td>0.0</td>\n",
       "      <td>0.0</td>\n",
       "      <td>0.0</td>\n",
       "    </tr>\n",
       "    <tr>\n",
       "      <th>3</th>\n",
       "      <td>CN Tower, King and Spadina, Railway Lands, Har...</td>\n",
       "      <td>0.0</td>\n",
       "      <td>0.0</td>\n",
       "      <td>0.0625</td>\n",
       "      <td>0.0625</td>\n",
       "      <td>0.0625</td>\n",
       "      <td>0.125</td>\n",
       "      <td>0.125</td>\n",
       "      <td>0.0625</td>\n",
       "      <td>0.0</td>\n",
       "      <td>...</td>\n",
       "      <td>0.000000</td>\n",
       "      <td>0.0</td>\n",
       "      <td>0.0</td>\n",
       "      <td>0.0</td>\n",
       "      <td>0.0</td>\n",
       "      <td>0.0</td>\n",
       "      <td>0.000000</td>\n",
       "      <td>0.0</td>\n",
       "      <td>0.0</td>\n",
       "      <td>0.0</td>\n",
       "    </tr>\n",
       "  </tbody>\n",
       "</table>\n",
       "<p>4 rows × 235 columns</p>\n",
       "</div>"
      ],
      "text/plain": [
       "                                        Neighborhood  Yoga Studio  \\\n",
       "0                                        Berczy Park          0.0   \n",
       "1       Brockton, Parkdale Village, Exhibition Place          0.0   \n",
       "2  Business reply mail Processing Centre, South C...          0.0   \n",
       "3  CN Tower, King and Spadina, Railway Lands, Har...          0.0   \n",
       "\n",
       "   Afghan Restaurant  Airport  Airport Food Court  Airport Gate  \\\n",
       "0                0.0   0.0000              0.0000        0.0000   \n",
       "1                0.0   0.0000              0.0000        0.0000   \n",
       "2                0.0   0.0000              0.0000        0.0000   \n",
       "3                0.0   0.0625              0.0625        0.0625   \n",
       "\n",
       "   Airport Lounge  Airport Service  Airport Terminal  American Restaurant  \\\n",
       "0           0.000            0.000            0.0000                  0.0   \n",
       "1           0.000            0.000            0.0000                  0.0   \n",
       "2           0.000            0.000            0.0000                  0.0   \n",
       "3           0.125            0.125            0.0625                  0.0   \n",
       "\n",
       "   ...  Thai Restaurant  Theater  Theme Restaurant  Toy / Game Store  Trail  \\\n",
       "0  ...         0.018182      0.0               0.0               0.0    0.0   \n",
       "1  ...         0.000000      0.0               0.0               0.0    0.0   \n",
       "2  ...         0.000000      0.0               0.0               0.0    0.0   \n",
       "3  ...         0.000000      0.0               0.0               0.0    0.0   \n",
       "\n",
       "   Train Station  Vegetarian / Vegan Restaurant  Video Game Store  \\\n",
       "0            0.0                       0.018182               0.0   \n",
       "1            0.0                       0.000000               0.0   \n",
       "2            0.0                       0.000000               0.0   \n",
       "3            0.0                       0.000000               0.0   \n",
       "\n",
       "   Vietnamese Restaurant  Wine Bar  \n",
       "0                    0.0       0.0  \n",
       "1                    0.0       0.0  \n",
       "2                    0.0       0.0  \n",
       "3                    0.0       0.0  \n",
       "\n",
       "[4 rows x 235 columns]"
      ]
     },
     "execution_count": 166,
     "metadata": {},
     "output_type": "execute_result"
    }
   ],
   "source": [
    "toronto_grouped = toronto_onehot.groupby('Neighborhood').mean().reset_index()\n",
    "toronto_grouped.head(4)"
   ]
  },
  {
   "cell_type": "code",
   "execution_count": 167,
   "metadata": {},
   "outputs": [
    {
     "data": {
      "text/plain": [
       "(39, 235)"
      ]
     },
     "execution_count": 167,
     "metadata": {},
     "output_type": "execute_result"
    }
   ],
   "source": [
    "toronto_grouped.shape"
   ]
  },
  {
   "cell_type": "markdown",
   "metadata": {
    "button": false,
    "new_sheet": false,
    "run_control": {
     "read_only": false
    }
   },
   "source": [
    "#### Putting 6 top venues in final dataframe\n"
   ]
  },
  {
   "cell_type": "code",
   "execution_count": 168,
   "metadata": {},
   "outputs": [],
   "source": [
    "def return_most_common_venues(row, num_top_venues):\n",
    "    row_categories = row.iloc[1:]\n",
    "    row_categories_sorted = row_categories.sort_values(ascending=False)\n",
    "    \n",
    "    return row_categories_sorted.index.values[0:num_top_venues]"
   ]
  },
  {
   "cell_type": "code",
   "execution_count": 169,
   "metadata": {},
   "outputs": [
    {
     "data": {
      "text/html": [
       "<div>\n",
       "<style scoped>\n",
       "    .dataframe tbody tr th:only-of-type {\n",
       "        vertical-align: middle;\n",
       "    }\n",
       "\n",
       "    .dataframe tbody tr th {\n",
       "        vertical-align: top;\n",
       "    }\n",
       "\n",
       "    .dataframe thead th {\n",
       "        text-align: right;\n",
       "    }\n",
       "</style>\n",
       "<table border=\"1\" class=\"dataframe\">\n",
       "  <thead>\n",
       "    <tr style=\"text-align: right;\">\n",
       "      <th></th>\n",
       "      <th>Neighborhood</th>\n",
       "      <th>1st Most Common Venue</th>\n",
       "      <th>2nd Most Common Venue</th>\n",
       "      <th>3rd Most Common Venue</th>\n",
       "      <th>4th Most Common Venue</th>\n",
       "      <th>5th Most Common Venue</th>\n",
       "      <th>6th Most Common Venue</th>\n",
       "      <th>7th Most Common Venue</th>\n",
       "      <th>8th Most Common Venue</th>\n",
       "    </tr>\n",
       "  </thead>\n",
       "  <tbody>\n",
       "    <tr>\n",
       "      <th>0</th>\n",
       "      <td>Berczy Park</td>\n",
       "      <td>Coffee Shop</td>\n",
       "      <td>Cocktail Bar</td>\n",
       "      <td>Bakery</td>\n",
       "      <td>Seafood Restaurant</td>\n",
       "      <td>Farmers Market</td>\n",
       "      <td>Cheese Shop</td>\n",
       "      <td>Beer Bar</td>\n",
       "      <td>Restaurant</td>\n",
       "    </tr>\n",
       "    <tr>\n",
       "      <th>1</th>\n",
       "      <td>Brockton, Parkdale Village, Exhibition Place</td>\n",
       "      <td>Café</td>\n",
       "      <td>Coffee Shop</td>\n",
       "      <td>Breakfast Spot</td>\n",
       "      <td>Nightclub</td>\n",
       "      <td>Performing Arts Venue</td>\n",
       "      <td>Convenience Store</td>\n",
       "      <td>Bar</td>\n",
       "      <td>Bakery</td>\n",
       "    </tr>\n",
       "    <tr>\n",
       "      <th>2</th>\n",
       "      <td>Business reply mail Processing Centre, South C...</td>\n",
       "      <td>Auto Workshop</td>\n",
       "      <td>Park</td>\n",
       "      <td>Fast Food Restaurant</td>\n",
       "      <td>Light Rail Station</td>\n",
       "      <td>Farmers Market</td>\n",
       "      <td>Recording Studio</td>\n",
       "      <td>Burrito Place</td>\n",
       "      <td>Pizza Place</td>\n",
       "    </tr>\n",
       "    <tr>\n",
       "      <th>3</th>\n",
       "      <td>CN Tower, King and Spadina, Railway Lands, Har...</td>\n",
       "      <td>Airport Lounge</td>\n",
       "      <td>Airport Service</td>\n",
       "      <td>Coffee Shop</td>\n",
       "      <td>Harbor / Marina</td>\n",
       "      <td>Plane</td>\n",
       "      <td>Rental Car Location</td>\n",
       "      <td>Sculpture Garden</td>\n",
       "      <td>Boutique</td>\n",
       "    </tr>\n",
       "    <tr>\n",
       "      <th>4</th>\n",
       "      <td>Central Bay Street</td>\n",
       "      <td>Coffee Shop</td>\n",
       "      <td>Café</td>\n",
       "      <td>Sandwich Place</td>\n",
       "      <td>Italian Restaurant</td>\n",
       "      <td>Salad Place</td>\n",
       "      <td>Department Store</td>\n",
       "      <td>Thai Restaurant</td>\n",
       "      <td>Japanese Restaurant</td>\n",
       "    </tr>\n",
       "  </tbody>\n",
       "</table>\n",
       "</div>"
      ],
      "text/plain": [
       "                                        Neighborhood 1st Most Common Venue  \\\n",
       "0                                        Berczy Park           Coffee Shop   \n",
       "1       Brockton, Parkdale Village, Exhibition Place                  Café   \n",
       "2  Business reply mail Processing Centre, South C...         Auto Workshop   \n",
       "3  CN Tower, King and Spadina, Railway Lands, Har...        Airport Lounge   \n",
       "4                                 Central Bay Street           Coffee Shop   \n",
       "\n",
       "  2nd Most Common Venue 3rd Most Common Venue 4th Most Common Venue  \\\n",
       "0          Cocktail Bar                Bakery    Seafood Restaurant   \n",
       "1           Coffee Shop        Breakfast Spot             Nightclub   \n",
       "2                  Park  Fast Food Restaurant    Light Rail Station   \n",
       "3       Airport Service           Coffee Shop       Harbor / Marina   \n",
       "4                  Café        Sandwich Place    Italian Restaurant   \n",
       "\n",
       "   5th Most Common Venue 6th Most Common Venue 7th Most Common Venue  \\\n",
       "0         Farmers Market           Cheese Shop              Beer Bar   \n",
       "1  Performing Arts Venue     Convenience Store                   Bar   \n",
       "2         Farmers Market      Recording Studio         Burrito Place   \n",
       "3                  Plane   Rental Car Location      Sculpture Garden   \n",
       "4            Salad Place      Department Store       Thai Restaurant   \n",
       "\n",
       "  8th Most Common Venue  \n",
       "0            Restaurant  \n",
       "1                Bakery  \n",
       "2           Pizza Place  \n",
       "3              Boutique  \n",
       "4   Japanese Restaurant  "
      ]
     },
     "execution_count": 169,
     "metadata": {},
     "output_type": "execute_result"
    }
   ],
   "source": [
    "num_top_venues = 8\n",
    "\n",
    "indicators = ['st', 'nd', 'rd']\n",
    "\n",
    "# create columns according to number of top venues\n",
    "columns = ['Neighborhood']\n",
    "for ind in np.arange(num_top_venues):\n",
    "    try:\n",
    "        columns.append('{}{} Most Common Venue'.format(ind+1, indicators[ind]))\n",
    "    except:\n",
    "        columns.append('{}th Most Common Venue'.format(ind+1))\n",
    "\n",
    "# create a new dataframe\n",
    "neighborhoods_venues_sorted = pd.DataFrame(columns=columns)\n",
    "neighborhoods_venues_sorted['Neighborhood'] = toronto_grouped['Neighborhood']\n",
    "\n",
    "for ind in np.arange(toronto_grouped.shape[0]):\n",
    "    neighborhoods_venues_sorted.iloc[ind, 1:] = return_most_common_venues(toronto_grouped.iloc[ind, :], num_top_venues)\n",
    "\n",
    "neighborhoods_venues_sorted.head()"
   ]
  },
  {
   "cell_type": "markdown",
   "metadata": {},
   "source": [
    "## 3.Clustering Neighborhoods"
   ]
  },
  {
   "cell_type": "code",
   "execution_count": 170,
   "metadata": {},
   "outputs": [],
   "source": [
    "# set number of clusters\n",
    "kclusters = 7\n",
    "\n",
    "toronto_grouped_clustering = toronto_grouped.drop('Neighborhood', 1)\n",
    "\n",
    "# run k-means clustering\n",
    "kmeans = KMeans(n_clusters=kclusters, random_state=0).fit(toronto_grouped_clustering)\n",
    "\n",
    "# check cluster labels generated for each row in the dataframe\n",
    "kmeans.labels_\n",
    "# add clustering labels\n",
    "neighborhoods_venues_sorted['Cluster Labels']= kmeans.labels_"
   ]
  },
  {
   "cell_type": "code",
   "execution_count": 171,
   "metadata": {},
   "outputs": [
    {
     "data": {
      "text/html": [
       "<div>\n",
       "<style scoped>\n",
       "    .dataframe tbody tr th:only-of-type {\n",
       "        vertical-align: middle;\n",
       "    }\n",
       "\n",
       "    .dataframe tbody tr th {\n",
       "        vertical-align: top;\n",
       "    }\n",
       "\n",
       "    .dataframe thead th {\n",
       "        text-align: right;\n",
       "    }\n",
       "</style>\n",
       "<table border=\"1\" class=\"dataframe\">\n",
       "  <thead>\n",
       "    <tr style=\"text-align: right;\">\n",
       "      <th></th>\n",
       "      <th>Postal Code</th>\n",
       "      <th>Borough</th>\n",
       "      <th>Neighborhood</th>\n",
       "      <th>Latitude</th>\n",
       "      <th>Longitude</th>\n",
       "      <th>1st Most Common Venue</th>\n",
       "      <th>2nd Most Common Venue</th>\n",
       "      <th>3rd Most Common Venue</th>\n",
       "      <th>4th Most Common Venue</th>\n",
       "      <th>5th Most Common Venue</th>\n",
       "      <th>6th Most Common Venue</th>\n",
       "      <th>7th Most Common Venue</th>\n",
       "      <th>8th Most Common Venue</th>\n",
       "      <th>Cluster Labels</th>\n",
       "    </tr>\n",
       "  </thead>\n",
       "  <tbody>\n",
       "    <tr>\n",
       "      <th>0</th>\n",
       "      <td>M4E</td>\n",
       "      <td>East Toronto</td>\n",
       "      <td>The Beaches</td>\n",
       "      <td>43.676357</td>\n",
       "      <td>-79.293031</td>\n",
       "      <td>Pub</td>\n",
       "      <td>Trail</td>\n",
       "      <td>Health Food Store</td>\n",
       "      <td>Dance Studio</td>\n",
       "      <td>Eastern European Restaurant</td>\n",
       "      <td>Dumpling Restaurant</td>\n",
       "      <td>Donut Shop</td>\n",
       "      <td>Doner Restaurant</td>\n",
       "      <td>6</td>\n",
       "    </tr>\n",
       "    <tr>\n",
       "      <th>1</th>\n",
       "      <td>M4K</td>\n",
       "      <td>East Toronto</td>\n",
       "      <td>The Danforth West, Riverdale</td>\n",
       "      <td>43.679557</td>\n",
       "      <td>-79.352188</td>\n",
       "      <td>Greek Restaurant</td>\n",
       "      <td>Coffee Shop</td>\n",
       "      <td>Italian Restaurant</td>\n",
       "      <td>Furniture / Home Store</td>\n",
       "      <td>Bookstore</td>\n",
       "      <td>Ice Cream Shop</td>\n",
       "      <td>Restaurant</td>\n",
       "      <td>Pizza Place</td>\n",
       "      <td>0</td>\n",
       "    </tr>\n",
       "    <tr>\n",
       "      <th>2</th>\n",
       "      <td>M4L</td>\n",
       "      <td>East Toronto</td>\n",
       "      <td>India Bazaar, The Beaches West</td>\n",
       "      <td>43.668999</td>\n",
       "      <td>-79.315572</td>\n",
       "      <td>Park</td>\n",
       "      <td>Steakhouse</td>\n",
       "      <td>Ice Cream Shop</td>\n",
       "      <td>Fish &amp; Chips Shop</td>\n",
       "      <td>Pub</td>\n",
       "      <td>Sandwich Place</td>\n",
       "      <td>Burrito Place</td>\n",
       "      <td>Sushi Restaurant</td>\n",
       "      <td>0</td>\n",
       "    </tr>\n",
       "    <tr>\n",
       "      <th>3</th>\n",
       "      <td>M4M</td>\n",
       "      <td>East Toronto</td>\n",
       "      <td>Studio District</td>\n",
       "      <td>43.659526</td>\n",
       "      <td>-79.340923</td>\n",
       "      <td>Coffee Shop</td>\n",
       "      <td>American Restaurant</td>\n",
       "      <td>Bakery</td>\n",
       "      <td>Brewery</td>\n",
       "      <td>Café</td>\n",
       "      <td>Gastropub</td>\n",
       "      <td>Wine Bar</td>\n",
       "      <td>Fish Market</td>\n",
       "      <td>0</td>\n",
       "    </tr>\n",
       "    <tr>\n",
       "      <th>4</th>\n",
       "      <td>M4N</td>\n",
       "      <td>Central Toronto</td>\n",
       "      <td>Lawrence Park</td>\n",
       "      <td>43.728020</td>\n",
       "      <td>-79.388790</td>\n",
       "      <td>Park</td>\n",
       "      <td>Bus Line</td>\n",
       "      <td>Swim School</td>\n",
       "      <td>Wine Bar</td>\n",
       "      <td>Deli / Bodega</td>\n",
       "      <td>Eastern European Restaurant</td>\n",
       "      <td>Dumpling Restaurant</td>\n",
       "      <td>Donut Shop</td>\n",
       "      <td>5</td>\n",
       "    </tr>\n",
       "  </tbody>\n",
       "</table>\n",
       "</div>"
      ],
      "text/plain": [
       "  Postal Code          Borough                    Neighborhood   Latitude  \\\n",
       "0         M4E     East Toronto                     The Beaches  43.676357   \n",
       "1         M4K     East Toronto    The Danforth West, Riverdale  43.679557   \n",
       "2         M4L     East Toronto  India Bazaar, The Beaches West  43.668999   \n",
       "3         M4M     East Toronto                 Studio District  43.659526   \n",
       "4         M4N  Central Toronto                   Lawrence Park  43.728020   \n",
       "\n",
       "   Longitude 1st Most Common Venue 2nd Most Common Venue  \\\n",
       "0 -79.293031                   Pub                 Trail   \n",
       "1 -79.352188      Greek Restaurant           Coffee Shop   \n",
       "2 -79.315572                  Park            Steakhouse   \n",
       "3 -79.340923           Coffee Shop   American Restaurant   \n",
       "4 -79.388790                  Park              Bus Line   \n",
       "\n",
       "  3rd Most Common Venue   4th Most Common Venue        5th Most Common Venue  \\\n",
       "0     Health Food Store            Dance Studio  Eastern European Restaurant   \n",
       "1    Italian Restaurant  Furniture / Home Store                    Bookstore   \n",
       "2        Ice Cream Shop       Fish & Chips Shop                          Pub   \n",
       "3                Bakery                 Brewery                         Café   \n",
       "4           Swim School                Wine Bar                Deli / Bodega   \n",
       "\n",
       "         6th Most Common Venue 7th Most Common Venue 8th Most Common Venue  \\\n",
       "0          Dumpling Restaurant            Donut Shop      Doner Restaurant   \n",
       "1               Ice Cream Shop            Restaurant           Pizza Place   \n",
       "2               Sandwich Place         Burrito Place      Sushi Restaurant   \n",
       "3                    Gastropub              Wine Bar           Fish Market   \n",
       "4  Eastern European Restaurant   Dumpling Restaurant            Donut Shop   \n",
       "\n",
       "   Cluster Labels  \n",
       "0               6  \n",
       "1               0  \n",
       "2               0  \n",
       "3               0  \n",
       "4               5  "
      ]
     },
     "execution_count": 171,
     "metadata": {},
     "output_type": "execute_result"
    }
   ],
   "source": [
    "toronto_merged = df_toronto\n",
    "\n",
    "toronto_merged=toronto_merged.rename(columns={'Neighbourhood': 'Neighborhood',\n",
    "    })\n",
    "# merge _data to add latitude/longitude for each neighborhood\n",
    "toronto_merged = toronto_merged.join(neighborhoods_venues_sorted.set_index('Neighborhood'),\n",
    "                                     on='Neighborhood')\n",
    "\n",
    "toronto_merged.head() # check the last columns!"
   ]
  },
  {
   "cell_type": "code",
   "execution_count": 172,
   "metadata": {},
   "outputs": [
    {
     "data": {
      "text/html": [
       "<div style=\"width:100%;\"><div style=\"position:relative;width:100%;height:0;padding-bottom:60%;\"><span style=\"color:#565656\">Make this Notebook Trusted to load map: File -> Trust Notebook</span><iframe src=\"about:blank\" style=\"position:absolute;width:100%;height:100%;left:0;top:0;border:none !important;\" data-html=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 onload=\"this.contentDocument.open();this.contentDocument.write(atob(this.getAttribute('data-html')));this.contentDocument.close();\" allowfullscreen webkitallowfullscreen mozallowfullscreen></iframe></div></div>"
      ],
      "text/plain": [
       "<folium.folium.Map at 0x7fdcb2c15730>"
      ]
     },
     "execution_count": 172,
     "metadata": {},
     "output_type": "execute_result"
    }
   ],
   "source": [
    "# create map\n",
    "map_clusters = folium.Map(location=[latitude, longitude], zoom_start=11)\n",
    "\n",
    "# set color scheme for the clusters\n",
    "x = np.arange(kclusters)\n",
    "ys = [i + x + (i*x)**2 for i in range(kclusters)]\n",
    "colors_array = cm.rainbow(np.linspace(0, 1, len(ys)))\n",
    "rainbow = [colors.rgb2hex(i) for i in colors_array]\n",
    "\n",
    "# add markers to the map\n",
    "markers_colors = []\n",
    "for lat, lon, poi, cluster in zip(toronto_merged['Latitude'],\n",
    "                                  toronto_merged['Longitude'],\n",
    "                                  toronto_merged['Neighborhood'],\n",
    "                                  toronto_merged['Cluster Labels']):\n",
    "    label = folium.Popup(str(poi) + ' Cluster ' + str(cluster), parse_html=True)\n",
    "    folium.CircleMarker(\n",
    "        [lat, lon],\n",
    "        radius=5,\n",
    "        popup=label,\n",
    "        color=rainbow[cluster-1],\n",
    "        fill=True,\n",
    "        fill_color=rainbow[cluster-1],\n",
    "        fill_opacity=0.7).add_to(map_clusters)\n",
    "       \n",
    "map_clusters"
   ]
  },
  {
   "cell_type": "code",
   "execution_count": 180,
   "metadata": {},
   "outputs": [
    {
     "data": {
      "image/png": "[encoded data removed]",
      "text/plain": [
       "<Figure size 432x288 with 1 Axes>"
      ]
     },
     "metadata": {
      "needs_background": "light"
     },
     "output_type": "display_data"
    }
   ],
   "source": [
    "img = mpimg.imread('Screenshot 2020-12-01 at 11.27.16.png')\n",
    "imgplot = plt.imshow(img)\n",
    "plt.show()"
   ]
  },
  {
   "cell_type": "code",
   "execution_count": null,
   "metadata": {},
   "outputs": [],
   "source": []
  }
 ],
 "metadata": {
  "kernelspec": {
   "display_name": "Python 3",
   "language": "python",
   "name": "python3"
  },
  "language_info": {
   "codemirror_mode": {
    "name": "ipython",
    "version": 3
   },
   "file_extension": ".py",
   "mimetype": "text/x-python",
   "name": "python",
   "nbconvert_exporter": "python",
   "pygments_lexer": "ipython3",
   "version": "3.8.3"
  },
  "widgets": {
   "state": {},
   "version": "1.1.2"
  }
 },
 "nbformat": 4,
 "nbformat_minor": 2
}
